{
 "cells": [
  {
   "cell_type": "code",
   "execution_count": 5,
   "id": "369a968d",
   "metadata": {},
   "outputs": [],
   "source": [
    "import math\n",
    "\n",
    "def shor(n: int) -> tuple[int, int]:\n",
    "    for a in range(2, n):\n",
    "        k = math.gcd(n, a)\n",
    "        if k != 1:\n",
    "            return k\n",
    "        r = find_period(n, a)\n",
    "        if r % 2 == 1:\n",
    "            continue\n",
    "        a2 = pow(a, r // 2, n)\n",
    "        if a2 == -1:\n",
    "            continue\n",
    "        return math.gcd(a2+ 1, n), math.gcd(a2 - 1, n)\n",
    "\n",
    "def find_period(n: int, a: int) -> int:\n",
    "    r = 0\n",
    "    m = 1\n",
    "    while True:\n",
    "        r += 1\n",
    "        m = (m * a) % n\n",
    "        if m == 1:\n",
    "            return r"
   ]
  },
  {
   "cell_type": "code",
   "execution_count": 14,
   "id": "0a0d723f",
   "metadata": {},
   "outputs": [
    {
     "data": {
      "text/plain": [
       "(1072957, 1337)"
      ]
     },
     "execution_count": 14,
     "metadata": {},
     "output_type": "execute_result"
    }
   ],
   "source": [
    "shor(1434543509)"
   ]
  },
  {
   "cell_type": "code",
   "execution_count": 15,
   "id": "df4e2c36",
   "metadata": {},
   "outputs": [
    {
     "data": {
      "text/plain": [
       "(7, 191)"
      ]
     },
     "execution_count": 15,
     "metadata": {},
     "output_type": "execute_result"
    }
   ],
   "source": [
    "shor(1337)"
   ]
  },
  {
   "cell_type": "code",
   "execution_count": 16,
   "id": "fe065c58",
   "metadata": {},
   "outputs": [
    {
     "data": {
      "text/plain": [
       "(191, 1)"
      ]
     },
     "execution_count": 16,
     "metadata": {},
     "output_type": "execute_result"
    }
   ],
   "source": [
    "shor(191)"
   ]
  }
 ],
 "metadata": {
  "kernelspec": {
   "display_name": "Python 3 (ipykernel)",
   "language": "python",
   "name": "python3"
  },
  "language_info": {
   "codemirror_mode": {
    "name": "ipython",
    "version": 3
   },
   "file_extension": ".py",
   "mimetype": "text/x-python",
   "name": "python",
   "nbconvert_exporter": "python",
   "pygments_lexer": "ipython3",
   "version": "3.9.6"
  }
 },
 "nbformat": 4,
 "nbformat_minor": 5
}
