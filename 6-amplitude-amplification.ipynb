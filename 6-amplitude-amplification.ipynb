{
 "cells": [
  {
   "cell_type": "code",
   "execution_count": 1,
   "id": "f8b5ed28",
   "metadata": {},
   "outputs": [],
   "source": [
    "import sympy\n",
    "import matplotlib.pyplot as plt\n",
    "import japanize_matplotlib"
   ]
  },
  {
   "cell_type": "code",
   "execution_count": 2,
   "id": "d0e6c249",
   "metadata": {},
   "outputs": [],
   "source": [
    "def hadamard_matrix(n: int) -> sympy.Matrix:\n",
    "    m = 2 ** n\n",
    "    return sympy.Matrix([[(-1) ** bin(i & j).count('1') for j in range(m)] for i in range(m)]) / sympy.sqrt(2) ** n"
   ]
  },
  {
   "cell_type": "code",
   "execution_count": 3,
   "id": "2f7b1a30",
   "metadata": {},
   "outputs": [],
   "source": [
    "def not_matrix(n: int, mask: int = None) -> sympy.Matrix:\n",
    "    if mask is None:\n",
    "        mask = (1 << n) - 1\n",
    "    m = 2 ** n\n",
    "    mat = sympy.Matrix.zeros(m)\n",
    "    for i in range(m):\n",
    "        mat[i, i ^ mask] = 1\n",
    "    return mat"
   ]
  },
  {
   "cell_type": "code",
   "execution_count": 4,
   "id": "cad57a50",
   "metadata": {},
   "outputs": [],
   "source": [
    "def cphase_matrix(n: int, phase) -> sympy.Matrix:\n",
    "    m = 2 ** n\n",
    "    mat = sympy.Matrix.eye(m)\n",
    "    mat[m - 1, m - 1] = sympy.exp(1j * phase)\n",
    "    mat.simplify()\n",
    "    return mat"
   ]
  },
  {
   "cell_type": "code",
   "execution_count": 5,
   "id": "66d7c6fa",
   "metadata": {},
   "outputs": [],
   "source": [
    "def flip_matrix(n: int, mask: int, phase) -> sympy.Matrix:\n",
    "    not_ = not_matrix(n, ~mask)\n",
    "    return not_ * cphase_matrix(n, phase) * not_"
   ]
  },
  {
   "cell_type": "code",
   "execution_count": 6,
   "id": "04123e12",
   "metadata": {},
   "outputs": [],
   "source": [
    "def grover_matrix(n: int) -> sympy.Matrix:\n",
    "    had = hadamard_matrix(n)\n",
    "    not_ = not_matrix(n)\n",
    "    z = cphase_matrix(n, sympy.pi)\n",
    "    return had * not_ * z * not_ * had"
   ]
  },
  {
   "cell_type": "code",
   "execution_count": 7,
   "id": "7bf647d7",
   "metadata": {},
   "outputs": [],
   "source": [
    "def init_state(n: int) -> sympy.Matrix:\n",
    "    v = [0] * 2 ** n\n",
    "    v[0] = 1\n",
    "    return hadamard_matrix(n) * sympy.Matrix(v)"
   ]
  },
  {
   "cell_type": "code",
   "execution_count": 8,
   "id": "a7be844c",
   "metadata": {},
   "outputs": [],
   "source": [
    "def as_prob(x):\n",
    "    return (x * x.conjugate()).simplify()"
   ]
  },
  {
   "cell_type": "code",
   "execution_count": 9,
   "id": "b76e9f72",
   "metadata": {},
   "outputs": [],
   "source": [
    "num_qubits = 4\n",
    "number_to_flip = 3\n",
    "p = sympy.var('p')\n",
    "reg = init_state(num_qubits)\n",
    "aa = grover_matrix(num_qubits) * flip_matrix(num_qubits, number_to_flip, p)"
   ]
  },
  {
   "cell_type": "code",
   "execution_count": 10,
   "id": "67c5ae84",
   "metadata": {},
   "outputs": [
    {
     "name": "stdout",
     "output_type": "stream",
     "text": [
      "121/256\n",
      "3721/4096\n",
      "63001/65536\n",
      "609961/1048576\n",
      "2105401/16777216\n",
      "5470921/268435456\n",
      "1567288921/4294967296\n",
      "57455610601/68719476736\n",
      "1090915491961/1099511627776\n"
     ]
    }
   ],
   "source": [
    "op = aa.subs(p, sympy.pi)\n",
    "b = reg\n",
    "x = [0]\n",
    "y = [as_prob(b[number_to_flip])]\n",
    "for i in range(1, 10):\n",
    "    b = op * b\n",
    "    b.simplify()\n",
    "    x.append(i)\n",
    "    y.append(as_prob(b[number_to_flip]))\n",
    "    print(y[-1])"
   ]
  },
  {
   "cell_type": "code",
   "execution_count": 11,
   "id": "e38b4121",
   "metadata": {},
   "outputs": [
    {
     "data": {
      "image/png": "[encoded data removed]",
      "text/plain": [
       "<Figure size 864x360 with 1 Axes>"
      ]
     },
     "metadata": {
      "needs_background": "light"
     },
     "output_type": "display_data"
    }
   ],
   "source": [
    "ax, fig = plt.subplots(1, 1,  figsize=(12, 5))\n",
    "fig.plot(x, [y.evalf() for y in y], 'o--')\n",
    "fig.grid()"
   ]
  }
 ],
 "metadata": {
  "kernelspec": {
   "display_name": "Python 3 (ipykernel)",
   "language": "python",
   "name": "python3"
  },
  "language_info": {
   "codemirror_mode": {
    "name": "ipython",
    "version": 3
   },
   "file_extension": ".py",
   "mimetype": "text/x-python",
   "name": "python",
   "nbconvert_exporter": "python",
   "pygments_lexer": "ipython3",
   "version": "3.9.6"
  }
 },
 "nbformat": 4,
 "nbformat_minor": 5
}
